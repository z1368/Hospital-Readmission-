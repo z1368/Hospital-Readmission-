{
 "cells": [
  {
   "cell_type": "markdown",
   "id": "b2ae61a1-98fe-4c87-b491-9875f04768f6",
   "metadata": {},
   "source": [
    "# Pipeline\n",
    "\n",
    "- Use the final model to build a pipeline"
   ]
  },
  {
   "cell_type": "code",
   "execution_count": 1,
   "id": "649885f5-38fb-49d2-b9d1-e2039d4d2a31",
   "metadata": {},
   "outputs": [],
   "source": [
    "import numpy as np\n",
    "import matplotlib.pyplot as plt\n",
    "import seaborn as sns\n",
    "from scipy import stats\n",
    "import pandas as pd \n",
    "import pandas as pd\n",
    "import numpy as np\n",
    "from sklearn.model_selection import train_test_split\n",
    "from sklearn.linear_model import LogisticRegression\n",
    "from sklearn.metrics import accuracy_score, confusion_matrix, classification_report\n",
    "from sklearn.preprocessing import StandardScaler, OneHotEncoder\n",
    "from sklearn.compose import ColumnTransformer\n",
    "from sklearn.pipeline import Pipeline\n",
    "from sklearn.metrics import accuracy_score, confusion_matrix, classification_report"
   ]
  },
  {
   "cell_type": "code",
   "execution_count": 3,
   "id": "74a7d3da-0047-40a8-9d8b-84b7a4f13bc5",
   "metadata": {},
   "outputs": [],
   "source": [
    "Data_Set=pd.read_csv(r\"Data/hospital_readmissions.csv\")"
   ]
  },
  {
   "cell_type": "code",
   "execution_count": 4,
   "id": "75a46e1e-0335-4f65-a00b-8c2d05feba94",
   "metadata": {},
   "outputs": [],
   "source": [
    "numerical_cols = ['time_in_hospital', 'n_lab_procedures', 'n_procedures', \n",
    "                  'n_medications', 'n_outpatient', 'n_inpatient', 'n_emergency']\n",
    "\n",
    "categorical_cols = ['age', 'medical_specialty', 'diag_1', 'diag_2', 'diag_3',\n",
    "                    'glucose_test', 'A1Ctest', 'change', 'diabetes_med']\n"
   ]
  },
  {
   "cell_type": "code",
   "execution_count": 5,
   "id": "7d630678-dfea-4468-bda6-3d3833ea7f82",
   "metadata": {},
   "outputs": [],
   "source": [
    "preprocessor = ColumnTransformer(\n",
    "    transformers=[\n",
    "        ('num', StandardScaler(), numerical_cols),          # Scaling numerical data\n",
    "        ('cat', OneHotEncoder(drop='first'), categorical_cols) # One-hot encoding categorical data\n",
    "    ]\n",
    ")"
   ]
  },
  {
   "cell_type": "code",
   "execution_count": 6,
   "id": "56fb6db9-3a27-4f4b-bfb1-0664aa4ce6f9",
   "metadata": {},
   "outputs": [],
   "source": [
    "# Define the pipeline before calling fit()\n",
    "pipeline = Pipeline(steps=[\n",
    "    ('preprocessor', preprocessor),  # Preprocessing step\n",
    "    ('classifier', LogisticRegression(max_iter=1000))  # Logistic regression model\n",
    "])"
   ]
  },
  {
   "cell_type": "code",
   "execution_count": 7,
   "id": "1383df5a-43e4-4bb1-b0f4-c9418b469fda",
   "metadata": {},
   "outputs": [],
   "source": [
    "# 5. Split the dataset\n",
    "X = Data_Set.drop('readmitted', axis=1)\n",
    "y = Data_Set['readmitted']\n",
    "\n",
    "# Ensure your target variable is binary (0, 1) for logistic regression\n",
    "# If 'readmitted' is categorical (e.g., 'yes', 'no'), map it to binary values\n",
    "y = y.map({'yes': 1, 'no': 0}) if y.dtype == 'object' else y\n",
    "\n",
    "# 6. Train-test split\n",
    "X_train, X_test, y_train, y_test = train_test_split(X, y, test_size=0.2, random_state=42)\n",
    "\n",
    "# 7. Train the model using the pipeline\n",
    "pipeline.fit(X_train, y_train)\n",
    "\n",
    "y_pred = pipeline.predict(X_test)"
   ]
  },
  {
   "cell_type": "code",
   "execution_count": 8,
   "id": "16439074-9ee1-40b2-aa8d-be594d56e154",
   "metadata": {},
   "outputs": [
    {
     "name": "stdout",
     "output_type": "stream",
     "text": [
      "Accuracy: 0.6102\n",
      "Confusion Matrix:\n",
      " [[2082  576]\n",
      " [1373  969]]\n",
      "Classification Report:\n",
      "               precision    recall  f1-score   support\n",
      "\n",
      "           0       0.60      0.78      0.68      2658\n",
      "           1       0.63      0.41      0.50      2342\n",
      "\n",
      "    accuracy                           0.61      5000\n",
      "   macro avg       0.61      0.60      0.59      5000\n",
      "weighted avg       0.61      0.61      0.60      5000\n",
      "\n"
     ]
    }
   ],
   "source": [
    "# Evaluate the model\n",
    "print(\"Accuracy:\", accuracy_score(y_test, y_pred))\n",
    "print(\"Confusion Matrix:\\n\", confusion_matrix(y_test, y_pred))\n",
    "print(\"Classification Report:\\n\", classification_report(y_test, y_pred))"
   ]
  },
  {
   "cell_type": "code",
   "execution_count": null,
   "id": "61483a11",
   "metadata": {},
   "outputs": [],
   "source": []
  },
  {
   "cell_type": "code",
   "execution_count": null,
   "id": "22120ad8",
   "metadata": {},
   "outputs": [],
   "source": []
  },
  {
   "cell_type": "code",
   "execution_count": null,
   "id": "f5eaa233",
   "metadata": {},
   "outputs": [],
   "source": []
  },
  {
   "cell_type": "code",
   "execution_count": null,
   "id": "fae9964c",
   "metadata": {},
   "outputs": [],
   "source": []
  },
  {
   "cell_type": "code",
   "execution_count": null,
   "id": "a36947f5",
   "metadata": {},
   "outputs": [],
   "source": []
  },
  {
   "cell_type": "code",
   "execution_count": null,
   "id": "600b50ff",
   "metadata": {},
   "outputs": [],
   "source": []
  },
  {
   "cell_type": "code",
   "execution_count": null,
   "id": "f198cafe",
   "metadata": {},
   "outputs": [],
   "source": []
  },
  {
   "cell_type": "code",
   "execution_count": null,
   "id": "98f66a72",
   "metadata": {},
   "outputs": [],
   "source": []
  },
  {
   "cell_type": "code",
   "execution_count": null,
   "id": "6c856c36",
   "metadata": {},
   "outputs": [],
   "source": []
  },
  {
   "cell_type": "code",
   "execution_count": null,
   "id": "3fa76eef",
   "metadata": {},
   "outputs": [],
   "source": []
  },
  {
   "cell_type": "code",
   "execution_count": null,
   "id": "bfe794e4",
   "metadata": {},
   "outputs": [],
   "source": []
  },
  {
   "cell_type": "code",
   "execution_count": null,
   "id": "0f3a2571",
   "metadata": {},
   "outputs": [],
   "source": []
  },
  {
   "cell_type": "code",
   "execution_count": null,
   "id": "86758779",
   "metadata": {},
   "outputs": [],
   "source": []
  },
  {
   "cell_type": "code",
   "execution_count": null,
   "id": "fda2c6ab",
   "metadata": {},
   "outputs": [],
   "source": []
  },
  {
   "cell_type": "code",
   "execution_count": null,
   "id": "b33797e5",
   "metadata": {},
   "outputs": [],
   "source": []
  },
  {
   "cell_type": "code",
   "execution_count": null,
   "id": "77e53cb5",
   "metadata": {},
   "outputs": [],
   "source": []
  },
  {
   "cell_type": "code",
   "execution_count": null,
   "id": "c8807525",
   "metadata": {},
   "outputs": [],
   "source": []
  },
  {
   "cell_type": "code",
   "execution_count": null,
   "id": "31b6e213",
   "metadata": {},
   "outputs": [],
   "source": []
  },
  {
   "cell_type": "code",
   "execution_count": null,
   "id": "9ed6dfab",
   "metadata": {},
   "outputs": [],
   "source": []
  },
  {
   "cell_type": "code",
   "execution_count": null,
   "id": "b18d4b6d",
   "metadata": {},
   "outputs": [],
   "source": []
  }
 ],
 "metadata": {
  "kernelspec": {
   "display_name": "Python 3 (ipykernel)",
   "language": "python",
   "name": "python3"
  },
  "language_info": {
   "codemirror_mode": {
    "name": "ipython",
    "version": 3
   },
   "file_extension": ".py",
   "mimetype": "text/x-python",
   "name": "python",
   "nbconvert_exporter": "python",
   "pygments_lexer": "ipython3",
   "version": "3.9.7"
  }
 },
 "nbformat": 4,
 "nbformat_minor": 5
}
