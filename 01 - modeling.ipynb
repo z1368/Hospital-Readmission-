{
 "cells": [
  {
   "cell_type": "markdown",
   "id": "ac469bd5-cc23-4878-a3c9-c725f696c7cb",
   "metadata": {},
   "source": [
    "# Modeling\n",
    "- Te goal is to build a logistic regression model and implement different pieces of this model using scikit learn library."
   ]
  },
  {
   "cell_type": "markdown",
   "id": "bf1a85aa",
   "metadata": {},
   "source": [
    "### Logistic Regression\n",
    "- Logistic regression is a supervised machine learning algorithm used for binary classification problems (e.g., yes/no, 0/1 outcomes). It models the relationship between the input features and the probability of belonging to a particular class using the logistic (sigmoid) function.\n",
    "\n",
    "- In scikit-learn, logistic regression is implemented using the LogisticRegression class. It supports various regularization --techniques and optimization solvers, making it flexible for different datasets."
   ]
  },
  {
   "cell_type": "markdown",
   "id": "9f2465ef",
   "metadata": {},
   "source": [
    "# Required Libraries"
   ]
  },
  {
   "cell_type": "code",
   "execution_count": 1,
   "id": "71d752ca",
   "metadata": {},
   "outputs": [],
   "source": [
    "import numpy as np\n",
    "import matplotlib.pyplot as plt\n",
    "import seaborn as sns\n",
    "from scipy import stats\n",
    "import pandas as pd \n",
    "import pandas as pd\n",
    "import numpy as np\n",
    "from sklearn.model_selection import train_test_split\n",
    "from sklearn.linear_model import LogisticRegression\n",
    "from sklearn.metrics import accuracy_score, confusion_matrix, classification_report\n",
    "from sklearn.preprocessing import StandardScaler, OneHotEncoder\n",
    "from sklearn.compose import ColumnTransformer\n",
    "from sklearn.pipeline import Pipeline\n",
    "from sklearn.metrics import accuracy_score, confusion_matrix, classification_report"
   ]
  },
  {
   "cell_type": "markdown",
   "id": "6b1e52bb",
   "metadata": {},
   "source": [
    "# Load Data\n",
    "\n",
    "- To review the dataset and explore its descriptive statistics, please click on the **EDA** section.\n",
    "\n",
    "\n",
    "[EDA Section](http://localhost:8888/notebooks/OneDrive/Desktop/Hospital%20Readmission/Hospital-Readmission-/00%20-%20eda.ipynb)\n"
   ]
  },
  {
   "cell_type": "code",
   "execution_count": 2,
   "id": "a5654b06",
   "metadata": {},
   "outputs": [
    {
     "name": "stdout",
     "output_type": "stream",
     "text": [
      "\u001b[1mDataset Shape:\u001b[0m (25000, 17)\n"
     ]
    }
   ],
   "source": [
    "Data_Set=pd.read_csv(\"Data/hospital_readmissions.csv\")\n",
    "print(f\"\\033[1mDataset Shape:\\033[0m {Data_Set.shape}\")\n",
    "\n"
   ]
  },
  {
   "cell_type": "code",
   "execution_count": 3,
   "id": "d3a17fdc",
   "metadata": {},
   "outputs": [],
   "source": [
    "\n",
    "numerical_cols = ['time_in_hospital', 'n_lab_procedures', 'n_procedures', \n",
    "                  'n_medications', 'n_outpatient', 'n_inpatient', 'n_emergency']\n",
    "\n",
    "categorical_cols = ['age', 'medical_specialty', 'diag_1', 'diag_2', 'diag_3',\n",
    "                    'glucose_test', 'A1Ctest', 'change', 'diabetes_med']\n",
    "\n",
    "\n",
    "\n"
   ]
  },
  {
   "cell_type": "markdown",
   "id": "9f02ab87",
   "metadata": {},
   "source": [
    "# Preprocessing Step: Scaling Numerical and Encoding Categorical Data\n"
   ]
  },
  {
   "cell_type": "code",
   "execution_count": 4,
   "id": "bcb4f13f",
   "metadata": {},
   "outputs": [],
   "source": [
    "preprocessor = ColumnTransformer(\n",
    "    transformers=[\n",
    "        ('num', StandardScaler(), numerical_cols),          # Scaling numerical data\n",
    "        ('cat', OneHotEncoder(drop='first'), categorical_cols) # One-hot encoding categorical data\n",
    "    ]\n",
    ")\n",
    "\n",
    "\n",
    "# Define the pipeline before calling fit()\n",
    "pipeline = Pipeline(steps=[\n",
    "    ('preprocessor', preprocessor),  # Preprocessing step\n",
    "    ('classifier', LogisticRegression(max_iter=1000))  # Logistic regression model\n",
    "])\n"
   ]
  },
  {
   "cell_type": "markdown",
   "id": "db2e3792",
   "metadata": {},
   "source": [
    "# Split the Dataset"
   ]
  },
  {
   "cell_type": "code",
   "execution_count": 5,
   "id": "75f043df",
   "metadata": {},
   "outputs": [],
   "source": [
    "\n",
    "X = Data_Set.drop('readmitted', axis=1)\n",
    "y = Data_Set['readmitted']\n",
    "\n",
    "# Ensure your target variable is binary (0, 1) for logistic regression\n",
    "# If 'readmitted' is categorical (e.g., 'yes', 'no'), map it to binary values\n",
    "y = y.map({'yes': 1, 'no': 0}) if y.dtype == 'object' else y\n",
    "\n",
    "# 6. Train-test split\n",
    "X_train, X_test, y_train, y_test = train_test_split(X, y, test_size=0.2, random_state=42)\n",
    "\n",
    "# 7. Train the model using the pipeline\n",
    "pipeline.fit(X_train, y_train)\n",
    "\n",
    "\n",
    "y_pred = pipeline.predict(X_test)\n"
   ]
  },
  {
   "cell_type": "markdown",
   "id": "7471ec59",
   "metadata": {},
   "source": [
    "# Evaluate the Model"
   ]
  },
  {
   "cell_type": "code",
   "execution_count": 6,
   "id": "2e0d3410",
   "metadata": {},
   "outputs": [
    {
     "name": "stdout",
     "output_type": "stream",
     "text": [
      "Accuracy: 0.61\n",
      "Confusion Matrix:\n",
      " [[2082  576]\n",
      " [1374  968]]\n",
      "Classification Report:\n",
      "               precision    recall  f1-score   support\n",
      "\n",
      "           0       0.60      0.78      0.68      2658\n",
      "           1       0.63      0.41      0.50      2342\n",
      "\n",
      "    accuracy                           0.61      5000\n",
      "   macro avg       0.61      0.60      0.59      5000\n",
      "weighted avg       0.61      0.61      0.60      5000\n",
      "\n"
     ]
    }
   ],
   "source": [
    "\n",
    "print(\"Accuracy:\", accuracy_score(y_test, y_pred))\n",
    "print(\"Confusion Matrix:\\n\", confusion_matrix(y_test, y_pred))\n",
    "print(\"Classification Report:\\n\", classification_report(y_test, y_pred))\n",
    "\n"
   ]
  },
  {
   "cell_type": "code",
   "execution_count": null,
   "id": "8578ae26",
   "metadata": {},
   "outputs": [],
   "source": []
  },
  {
   "cell_type": "code",
   "execution_count": null,
   "id": "166e6175",
   "metadata": {},
   "outputs": [],
   "source": []
  },
  {
   "cell_type": "code",
   "execution_count": null,
   "id": "73f64691",
   "metadata": {},
   "outputs": [],
   "source": []
  },
  {
   "cell_type": "code",
   "execution_count": null,
   "id": "a088db22",
   "metadata": {},
   "outputs": [],
   "source": []
  },
  {
   "cell_type": "code",
   "execution_count": null,
   "id": "5a8c924e",
   "metadata": {},
   "outputs": [],
   "source": []
  },
  {
   "cell_type": "code",
   "execution_count": null,
   "id": "9c9e011c",
   "metadata": {},
   "outputs": [],
   "source": []
  },
  {
   "cell_type": "code",
   "execution_count": null,
   "id": "dafbbf12",
   "metadata": {},
   "outputs": [],
   "source": []
  },
  {
   "cell_type": "code",
   "execution_count": null,
   "id": "1bdcda34",
   "metadata": {},
   "outputs": [],
   "source": []
  },
  {
   "cell_type": "code",
   "execution_count": null,
   "id": "8b01588e",
   "metadata": {},
   "outputs": [],
   "source": []
  },
  {
   "cell_type": "code",
   "execution_count": null,
   "id": "63cedb6a",
   "metadata": {},
   "outputs": [],
   "source": []
  },
  {
   "cell_type": "code",
   "execution_count": null,
   "id": "509da4a9",
   "metadata": {},
   "outputs": [],
   "source": []
  },
  {
   "cell_type": "code",
   "execution_count": null,
   "id": "0063b3e7",
   "metadata": {},
   "outputs": [],
   "source": []
  },
  {
   "cell_type": "code",
   "execution_count": null,
   "id": "bdfba836",
   "metadata": {},
   "outputs": [],
   "source": []
  }
 ],
 "metadata": {
  "kernelspec": {
   "display_name": "Python 3 (ipykernel)",
   "language": "python",
   "name": "python3"
  },
  "language_info": {
   "codemirror_mode": {
    "name": "ipython",
    "version": 3
   },
   "file_extension": ".py",
   "mimetype": "text/x-python",
   "name": "python",
   "nbconvert_exporter": "python",
   "pygments_lexer": "ipython3",
   "version": "3.9.7"
  }
 },
 "nbformat": 4,
 "nbformat_minor": 5
}
