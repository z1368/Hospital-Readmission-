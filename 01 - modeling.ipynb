{
 "cells": [
  {
   "cell_type": "markdown",
   "id": "ac469bd5-cc23-4878-a3c9-c725f696c7cb",
   "metadata": {},
   "source": [
    "# Modeling\n",
    "- Benchmark Many Models"
   ]
  },
  {
   "cell_type": "code",
   "execution_count": null,
   "id": "6483cf34-47c6-40bf-b5ac-b1a2f1796a51",
   "metadata": {},
   "outputs": [],
   "source": []
  }
 ],
 "metadata": {
  "kernelspec": {
   "display_name": "Python 3 (ipykernel)",
   "language": "python",
   "name": "python3"
  },
  "language_info": {
   "codemirror_mode": {
    "name": "ipython",
    "version": 3
   },
   "file_extension": ".py",
   "mimetype": "text/x-python",
   "name": "python",
   "nbconvert_exporter": "python",
   "pygments_lexer": "ipython3",
   "version": "3.11.9"
  }
 },
 "nbformat": 4,
 "nbformat_minor": 5
}
